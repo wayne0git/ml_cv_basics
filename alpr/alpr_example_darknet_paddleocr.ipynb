{
  "nbformat": 4,
  "nbformat_minor": 0,
  "metadata": {
    "colab": {
      "name": "alpr_example_darknet_paddleocr.ipynb",
      "provenance": [],
      "authorship_tag": "ABX9TyNMu9j8Hx4GOQnlN47Nvhgl",
      "include_colab_link": true
    },
    "kernelspec": {
      "name": "python3",
      "display_name": "Python 3"
    },
    "language_info": {
      "name": "python"
    },
    "accelerator": "GPU"
  },
  "cells": [
    {
      "cell_type": "markdown",
      "metadata": {
        "id": "view-in-github",
        "colab_type": "text"
      },
      "source": [
        "<a href=\"https://colab.research.google.com/github/wayne0git/ml_cv_basics/blob/master/alpr/alpr_example_darknet_paddleocr.ipynb\" target=\"_parent\"><img src=\"https://colab.research.google.com/assets/colab-badge.svg\" alt=\"Open In Colab\"/></a>"
      ]
    },
    {
      "cell_type": "markdown",
      "source": [
        "# Environment Installation"
      ],
      "metadata": {
        "id": "UpgDAmJDskRr"
      }
    },
    {
      "cell_type": "markdown",
      "source": [
        "## Install Darknet framework"
      ],
      "metadata": {
        "id": "ucjj0SlKs50M"
      }
    },
    {
      "cell_type": "code",
      "execution_count": 1,
      "metadata": {
        "colab": {
          "base_uri": "https://localhost:8080/"
        },
        "id": "PGarmqfMsizA",
        "outputId": "5e0c24bb-c933-4fc0-d0e0-49b427e4c0c6"
      },
      "outputs": [
        {
          "output_type": "stream",
          "name": "stdout",
          "text": [
            "Cloning into 'darknet'...\n",
            "remote: Enumerating objects: 15412, done.\u001b[K\n",
            "remote: Total 15412 (delta 0), reused 0 (delta 0), pack-reused 15412\u001b[K\n",
            "Receiving objects: 100% (15412/15412), 14.02 MiB | 18.48 MiB/s, done.\n",
            "Resolving deltas: 100% (10356/10356), done.\n"
          ]
        }
      ],
      "source": [
        "!git clone https://github.com/AlexeyAB/darknet"
      ]
    },
    {
      "cell_type": "code",
      "source": [
        "%cd darknet\n",
        "!sed -i 's/OPENCV=0/OPENCV=1/' Makefile\n",
        "!sed -i 's/GPU=0/GPU=1/' Makefile\n",
        "!sed -i 's/CUDNN=0/CUDNN=1/' Makefile\n",
        "!sed -i 's/CUDNN_HALF=0/CUDNN_HALF=1/' Makefile\n",
        "!sed -i 's/LIBSO=0/LIBSO=1/' Makefile"
      ],
      "metadata": {
        "id": "wdakA2sLtDV-"
      },
      "execution_count": null,
      "outputs": []
    }
  ]
}