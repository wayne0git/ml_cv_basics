{
  "nbformat": 4,
  "nbformat_minor": 0,
  "metadata": {
    "colab": {
      "name": "yolo_v1_example.ipynb",
      "provenance": [],
      "authorship_tag": "ABX9TyMvf6vosV7xPtdB3ZDd8FqI",
      "include_colab_link": true
    },
    "kernelspec": {
      "name": "python3",
      "display_name": "Python 3"
    },
    "language_info": {
      "name": "python"
    },
    "accelerator": "GPU"
  },
  "cells": [
    {
      "cell_type": "markdown",
      "metadata": {
        "id": "view-in-github",
        "colab_type": "text"
      },
      "source": [
        "<a href=\"https://colab.research.google.com/github/wayne0git/ml_cv_basics/blob/master/object_detection/yolo_v1_example.ipynb\" target=\"_parent\"><img src=\"https://colab.research.google.com/assets/colab-badge.svg\" alt=\"Open In Colab\"/></a>"
      ]
    },
    {
      "cell_type": "markdown",
      "source": [
        "# YOLO v1 Example\n",
        "### https://pyimagesearch.com/2022/04/11/understanding-a-real-time-object-detection-network-you-only-look-once-yolov1/"
      ],
      "metadata": {
        "id": "vJRUp4N1Df3q"
      }
    },
    {
      "cell_type": "markdown",
      "source": [
        "## Environment Preparation\n",
        "## (Assume CUDA, CUDNN, and NVIDIA Driver Installed)"
      ],
      "metadata": {
        "id": "W-vSLCuJDnqU"
      }
    },
    {
      "cell_type": "code",
      "execution_count": null,
      "metadata": {
        "id": "Vw0ovCIXDX6j"
      },
      "outputs": [],
      "source": [
        "# Sanity check for GPU as runtime\n",
        "!nvidia-smi"
      ]
    },
    {
      "cell_type": "code",
      "source": [
        "# Install OpenCV, ffmpeg modules\n",
        "!apt install libopencv-dev python-opencv ffmpeg"
      ],
      "metadata": {
        "id": "6_gpuQh4D8BX"
      },
      "execution_count": null,
      "outputs": []
    },
    {
      "cell_type": "code",
      "source": [
        "# Clone AlexeyAB darknet repository\n",
        "!git clone https://github.com/AlexeyAB/darknet/"
      ],
      "metadata": {
        "id": "7BaD0_nOEDOE"
      },
      "execution_count": null,
      "outputs": []
    },
    {
      "cell_type": "code",
      "source": [
        "# Change the directory to darknet \n",
        "%cd darknet"
      ],
      "metadata": {
        "id": "9gfgEGBdEf6l"
      },
      "execution_count": null,
      "outputs": []
    },
    {
      "cell_type": "code",
      "source": [
        "# Enable the OpenCV, CUDA, CUDNN, CUDNN_HALF & LIBSO Flags and Compile Darknet\n",
        "!sed -i 's/OPENCV=0/OPENCV=1/g' Makefile\n",
        "!sed -i 's/GPU=0/GPU=1/g' Makefile\n",
        "!sed -i 's/CUDNN=0/CUDNN=1/g' Makefile\n",
        "!sed -i 's/CUDNN_HALF=0/CUDNN_HALF=1/g' Makefile\n",
        "!sed -i 's/LIBSO=0/LIBSO=1/g' Makefile\n",
        "!make"
      ],
      "metadata": {
        "id": "5nvRJ3UHEU_b"
      },
      "execution_count": null,
      "outputs": []
    },
    {
      "cell_type": "code",
      "source": [
        "# Download YOLOv1 Weights\n",
        "!wget http://pjreddie.com/media/files/yolov1/yolov1.weights"
      ],
      "metadata": {
        "id": "IXmklXniFMP3"
      },
      "execution_count": null,
      "outputs": []
    },
    {
      "cell_type": "code",
      "source": [
        "# Download YOLOv2 Weights\n",
        "!wget http://pjreddie.com/media/files/yolov2-voc.weights"
      ],
      "metadata": {
        "id": "Q_R5szaTa97G"
      },
      "execution_count": null,
      "outputs": []
    },
    {
      "cell_type": "code",
      "source": [
        "# Download YOLOv3 Weights\n",
        "!wget https://pjreddie.com/media/files/yolov3.weights"
      ],
      "metadata": {
        "id": "NgyDJxdMGOYd"
      },
      "execution_count": null,
      "outputs": []
    },
    {
      "cell_type": "markdown",
      "source": [
        "# Inference"
      ],
      "metadata": {
        "id": "pShyh4fQFi2w"
      }
    },
    {
      "cell_type": "code",
      "source": [
        "# Run the darknet image inference script\n",
        "# --input : Path to the images directory or text file with the path to the images or a single image name\n",
        "# --weights : YOLOv1 weights path.\n",
        "# --config_file : Configuration file path for YOLOv1.\n",
        "# --data_file : Here, we pass the Pascal VOC labels file.\n",
        "# --dont_show : This will disable OpenCV from displaying the inference results, and we use this since we are working with colab.\n",
        "!python3 darknet_images.py --input data --weights yolov1.weights --config_file cfg/yolov1/yolo.cfg --data_file cfg/voc.data --dont_show"
      ],
      "metadata": {
        "id": "CAojmIE4Fj6g"
      },
      "execution_count": null,
      "outputs": []
    },
    {
      "cell_type": "code",
      "source": [
        "# YOLOv2\n",
        "!python3 darknet_images.py --input data --weights yolov2-voc.weights --config_file cfg/yolov2-voc.cfg --data_file cfg/voc.data --dont_show"
      ],
      "metadata": {
        "id": "VsMyfiBxbHtG"
      },
      "execution_count": null,
      "outputs": []
    },
    {
      "cell_type": "code",
      "source": [
        "# YOLOv3\n",
        "!python3 darknet_images.py --input data --weights yolov3.weights --config_file cfg/yolov3.cfg --dont_show"
      ],
      "metadata": {
        "id": "8gRcq2bKGWdG"
      },
      "execution_count": null,
      "outputs": []
    }
  ]
}