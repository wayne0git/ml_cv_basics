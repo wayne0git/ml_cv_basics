{
  "nbformat": 4,
  "nbformat_minor": 0,
  "metadata": {
    "colab": {
      "name": "connected_component_analysis_opencv.ipynb",
      "provenance": [],
      "authorship_tag": "ABX9TyOijSHcjKhDNYBn8B+RQEHY",
      "include_colab_link": true
    },
    "kernelspec": {
      "name": "python3",
      "display_name": "Python 3"
    }
  },
  "cells": [
    {
      "cell_type": "markdown",
      "metadata": {
        "id": "view-in-github",
        "colab_type": "text"
      },
      "source": [
        "<a href=\"https://colab.research.google.com/github/wayne0git/ml_cv_basics/blob/master/blob_analysis/connected_component_analysis_opencv.ipynb\" target=\"_parent\"><img src=\"https://colab.research.google.com/assets/colab-badge.svg\" alt=\"Open In Colab\"/></a>"
      ]
    },
    {
      "cell_type": "markdown",
      "metadata": {
        "id": "RHYXGGFtJIC8"
      },
      "source": [
        "# Connected Component Analysis based on OpenCV\r\n",
        "Ref - https://www.pyimagesearch.com/2021/02/22/opencv-connected-component-labeling-and-analysis/"
      ]
    },
    {
      "cell_type": "code",
      "metadata": {
        "id": "SbMwPGJJJlby"
      },
      "source": [
        "import cv2  # 4.1.2\r\n",
        "import numpy as np\r\n",
        "from google.colab.patches import cv2_imshow"
      ],
      "execution_count": 40,
      "outputs": []
    },
    {
      "cell_type": "code",
      "metadata": {
        "id": "LJdtguQlNG6X"
      },
      "source": [
        "# Parameters\r\n",
        "FILE_PATH = '1.jpg'\r\n",
        "CONNECTIVITY = 4    # Neighborhood setting for connected component. (4 or 8)"
      ],
      "execution_count": 19,
      "outputs": []
    },
    {
      "cell_type": "markdown",
      "metadata": {
        "id": "OFj2ULDtJrU5"
      },
      "source": [
        "## Load Data"
      ]
    },
    {
      "cell_type": "code",
      "metadata": {
        "id": "CU_q6NUZJotf"
      },
      "source": [
        "# Load image & BGR => Gray\r\n",
        "im = cv2.imread(FILE_PATH)\r\n",
        "gray = cv2.cvtColor(im, cv2.COLOR_BGR2GRAY)"
      ],
      "execution_count": 13,
      "outputs": []
    },
    {
      "cell_type": "markdown",
      "metadata": {
        "id": "qOdNXmVrKNxc"
      },
      "source": [
        "## Connected Component Analysis"
      ]
    },
    {
      "cell_type": "markdown",
      "metadata": {
        "id": "9dkjSsdFKSqS"
      },
      "source": [
        "#### OpenCV provides four connected component analysis functions:\r\n",
        "- 1. cv2.connectedComponents -- Basic function.\r\n",
        "- 2. cv2.connectedComponentsWithStats -- Basic function with stat info (e.g., bbox, area, center) (Commonly used)\r\n",
        "- 3. cv2.connectedComponentsWithAlgorithm -- Similar to connectedComponents but run faster. (Based on OpenCV compiled with parallel processing support)\r\n",
        "- 4. cv2.connectedComponentsWithStatsWithAlgorithm -- Similar to connectedComponentsWithStats but run faster. (Based on OpenCV compiled with parallel processing support)"
      ]
    },
    {
      "cell_type": "code",
      "metadata": {
        "id": "LMNyw3ElJ6XU"
      },
      "source": [
        "# Otsu's threhold\r\n",
        "# 1st argument : Grayscale image\r\n",
        "# 2nd argument : Threshold value (0 if using Otsu's method)\r\n",
        "# 3rd argument : maxValue, Value of output image will be either 0 or maxValue\r\n",
        "# 4th argument : Thresholding method.\r\n",
        "#          cv2.THRESH_BINARY -- >TH = MAXVAL\r\n",
        "#          cv2.THRESH_BINARY_INV -- <TH = MAXVAL\r\n",
        "#          cv2.THRESH_TRUNC -- <TH = Original value. >TH = TH\r\n",
        "#          cv2.THRESH_TOZERO -- <TH = 0. >TH = Original value\r\n",
        "#          cv2.THRESH_TOZERO_INV -- <TH = Original value. >TH = 0\r\n",
        "#          cv2.THRESH_OTSU -- Use threshold found by Otsu's algorithm\r\n",
        "\r\n",
        "# 1st return : Value used for thresholding\r\n",
        "# 2nd return : Thresholded image\r\n",
        "\r\n",
        "thresh = cv2.threshold(gray, 0, 255, cv2.THRESH_OTSU | cv2.THRESH_BINARY_INV)[1]"
      ],
      "execution_count": 14,
      "outputs": []
    },
    {
      "cell_type": "code",
      "metadata": {
        "id": "waFl96OcMxl9"
      },
      "source": [
        "# Connected Component\r\n",
        "# numLabels : Number of total components. 1st component = Background\r\n",
        "# labels : Label mask. (#Row, #Col) (type: cv2.CV_32S)\r\n",
        "# stats : Statistics of each component. (x, y, w, h, area) (numLabels, 5)\r\n",
        "# centroids : Centroid of each component. (xc, yc) (numLabels, 2)\r\n",
        "numLabels, labels, stats, centroids = cv2.connectedComponentsWithStats(thresh, CONNECTIVITY, cv2.CV_32S)"
      ],
      "execution_count": 28,
      "outputs": []
    },
    {
      "cell_type": "markdown",
      "metadata": {
        "id": "r11hLYhBORpN"
      },
      "source": [
        "## Show Result"
      ]
    },
    {
      "cell_type": "markdown",
      "metadata": {
        "id": "6AzGQ0bSP2Uf"
      },
      "source": [
        "#### Threshold"
      ]
    },
    {
      "cell_type": "code",
      "metadata": {
        "id": "2VrBA7OSP84_"
      },
      "source": [
        "cv2_imshow(np.hstack([im, cv2.cvtColor(thresh, cv2.COLOR_GRAY2BGR)]))"
      ],
      "execution_count": null,
      "outputs": []
    },
    {
      "cell_type": "markdown",
      "metadata": {
        "id": "jQszF35PP468"
      },
      "source": [
        "#### Connected Component"
      ]
    },
    {
      "cell_type": "code",
      "metadata": {
        "id": "wI_FO5AnNWp8"
      },
      "source": [
        "for i in range(1, numLabels):\r\n",
        "    x, y, w, h, area = stats[i, 0], stats[i, 1], stats[i, 2], stats[i, 3], stats[i, 4]\r\n",
        "    cx, cy = int(centroids[i, 0]), int(centroids[i, 1])\r\n",
        "\r\n",
        "    if area < 500 or area > 1500 or w > h:\r\n",
        "        continue\r\n",
        "\r\n",
        "    output = im.copy()\r\n",
        "    cv2.rectangle(output, (x, y), (x + w, y + h), (0, 255, 0), 3)\r\n",
        "    cv2.circle(output, (cx, cy), 4, (0, 0, 255), -1)\r\n",
        "    cv2_imshow(output)"
      ],
      "execution_count": null,
      "outputs": []
    },
    {
      "cell_type": "code",
      "metadata": {
        "id": "8KaTywJ4OmFh"
      },
      "source": [
        ""
      ],
      "execution_count": null,
      "outputs": []
    }
  ]
}