{
  "nbformat": 4,
  "nbformat_minor": 0,
  "metadata": {
    "colab": {
      "name": "object_tracking_yolo_deepsort.ipynb",
      "provenance": [],
      "authorship_tag": "ABX9TyPvoOWgrARdi/+h3keM3FJT",
      "include_colab_link": true
    },
    "kernelspec": {
      "name": "python3",
      "display_name": "Python 3"
    },
    "language_info": {
      "name": "python"
    }
  },
  "cells": [
    {
      "cell_type": "markdown",
      "metadata": {
        "id": "view-in-github",
        "colab_type": "text"
      },
      "source": [
        "<a href=\"https://colab.research.google.com/github/wayne0git/ml_cv_basics/blob/master/object_tracking/object_tracking_yolo_deepsort.ipynb\" target=\"_parent\"><img src=\"https://colab.research.google.com/assets/colab-badge.svg\" alt=\"Open In Colab\"/></a>"
      ]
    },
    {
      "cell_type": "markdown",
      "source": [
        "# Object Tracking Example Based on YOLO and Deepsort\n",
        "Ref - https://learnopencv.com/understanding-multiple-object-tracking-using-deepsort/#DeepSORT-Implementation"
      ],
      "metadata": {
        "id": "0_H6jYf4s7DY"
      }
    },
    {
      "cell_type": "markdown",
      "source": [
        "## Environment Preparation"
      ],
      "metadata": {
        "id": "zZ3ucxEYtCRH"
      }
    },
    {
      "cell_type": "code",
      "execution_count": null,
      "metadata": {
        "id": "1DHd8Ucxs1_R"
      },
      "outputs": [],
      "source": [
        "# Download YOLOv5\n",
        "!git clone https://github.com/ultralytics/yolov5.git"
      ]
    },
    {
      "cell_type": "code",
      "source": [
        "# Download Deepsort (Within YOLO folder)\n",
        "%cd yolov5\n",
        "!git clone https://github.com/nwojke/deep_sort.git"
      ],
      "metadata": {
        "id": "0cXkpqOntKPp"
      },
      "execution_count": null,
      "outputs": []
    },
    {
      "cell_type": "code",
      "source": [
        "!pip install -r requirements.txt"
      ],
      "metadata": {
        "id": "pnHimBXVtbEA"
      },
      "execution_count": null,
      "outputs": []
    },
    {
      "cell_type": "code",
      "source": [
        "# Download MOT evaluation code\n",
        "!git clone https://github.com/shenh10/mot_evaluation.git"
      ],
      "metadata": {
        "id": "iatf5aeJtmKX"
      },
      "execution_count": null,
      "outputs": []
    }
  ]
}